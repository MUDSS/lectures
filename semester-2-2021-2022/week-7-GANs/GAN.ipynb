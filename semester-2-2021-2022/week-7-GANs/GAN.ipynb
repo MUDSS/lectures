{
 "cells": [
  {
   "cell_type": "code",
   "execution_count": 1,
   "metadata": {},
   "outputs": [],
   "source": [
    "import numpy as np\n",
    "import matplotlib.pyplot as plt\n",
    "import random\n",
    "import torch\n",
    "from tqdm import tqdm\n",
    "import torch.nn as nn\n",
    "from torchvision import datasets\n",
    "import torchvision.transforms as transforms\n",
    "from torchvision.transforms import ToTensor\n",
    "import torchvision.utils as vutils"
   ]
  },
  {
   "cell_type": "markdown",
   "metadata": {},
   "source": [
    "#### Preprocessing the MNIST dataset\n",
    "\n",
    "To normalize input data properly, we need to find the `mean` & `std` of the whole dataset."
   ]
  },
  {
   "cell_type": "code",
   "execution_count": 2,
   "metadata": {},
   "outputs": [
    {
     "name": "stdout",
     "output_type": "stream",
     "text": [
      "MNIST mean=0.13066047430038452 & std=0.30810779333114624\n"
     ]
    },
    {
     "name": "stderr",
     "output_type": "stream",
     "text": [
      "/Users/vladislav/anaconda3/lib/python3.8/site-packages/torchvision/datasets/mnist.py:62: UserWarning: train_data has been renamed data\n",
      "  warnings.warn(\"train_data has been renamed data\")\n"
     ]
    }
   ],
   "source": [
    "dataset = datasets.MNIST(root='MNIST', download=True,transform=transforms.Compose([\n",
    "    transforms.ToTensor(),  # Convert the image to `numpy.ndarray`\n",
    "]))\n",
    "\n",
    "mnist_mean, mnist_std = dataset.train_data.float().mean()/255, dataset.train_data.float().std()/255\n",
    "print(f\"MNIST mean={mnist_mean} & std={mnist_std}\")"
   ]
  },
  {
   "cell_type": "markdown",
   "metadata": {},
   "source": [
    "#### Loading MNIST onto a DataLoader"
   ]
  },
  {
   "cell_type": "code",
   "execution_count": 3,
   "metadata": {},
   "outputs": [],
   "source": [
    "image_size = 64\n",
    "batch_size = 64\n",
    "\n",
    "dataset = datasets.MNIST(root='MNIST', transform=transforms.Compose([\n",
    "    transforms.Resize(size=image_size), # Interpolate original dataset to fit the provided size\n",
    "    transforms.ToTensor(),  # Convert the image to `numpy.ndarray`\n",
    "    transforms.Normalize(mean=mnist_mean, std=mnist_std)\n",
    "]))\n",
    "\n",
    "dataloader = torch.utils.data.DataLoader(dataset, batch_size=batch_size,\n",
    "                                         shuffle=True, num_workers=1)"
   ]
  },
  {
   "cell_type": "code",
   "execution_count": 4,
   "metadata": {},
   "outputs": [
    {
     "data": {
      "text/plain": [
       "<matplotlib.image.AxesImage at 0x7f8a82181b50>"
      ]
     },
     "execution_count": 4,
     "metadata": {},
     "output_type": "execute_result"
    },
    {
     "data": {
      "image/png": "[encoded data removed]",
      "text/plain": [
       "<Figure size 432x288 with 1 Axes>"
      ]
     },
     "metadata": {
      "needs_background": "light"
     },
     "output_type": "display_data"
    }
   ],
   "source": [
    "plt.imshow(dataset.data[0], cmap='gray')"
   ]
  },
  {
   "cell_type": "code",
   "execution_count": 5,
   "metadata": {},
   "outputs": [],
   "source": [
    "# custom weights initialization based on DCGAN paper\n",
    "def weights_init(m):\n",
    "    classname = m.__class__.__name__\n",
    "    if classname.find('Conv') != -1:\n",
    "        nn.init.normal_(m.weight.data, 0.0, 0.02)\n",
    "    elif classname.find('BatchNorm') != -1:\n",
    "        nn.init.normal_(m.weight.data, 1.0, 0.02)\n",
    "        nn.init.constant_(m.bias.data, 0)"
   ]
  },
  {
   "cell_type": "code",
   "execution_count": 6,
   "metadata": {},
   "outputs": [
    {
     "data": {
      "text/plain": [
       "<torch._C.Generator at 0x7f8a95ab63f0>"
      ]
     },
     "execution_count": 6,
     "metadata": {},
     "output_type": "execute_result"
    }
   ],
   "source": [
    "noise_size = 100\n",
    "seed = 1\n",
    "random.seed(seed)\n",
    "torch.manual_seed(seed)"
   ]
  },
  {
   "cell_type": "code",
   "execution_count": 7,
   "metadata": {},
   "outputs": [],
   "source": [
    "class Generator(nn.Module):\n",
    "    def __init__(self):\n",
    "        super(Generator, self).__init__()\n",
    "        self.main = nn.Sequential(\n",
    "            nn.ConvTranspose2d(in_channels=noise_size, out_channels=512, kernel_size=4, stride=1, padding=0, bias=False),\n",
    "            nn.BatchNorm2d(num_features=512),\n",
    "            nn.ReLU(True),\n",
    "            nn.ConvTranspose2d(in_channels=512, out_channels=256, kernel_size=4, stride=2, padding=1, bias=False),\n",
    "            nn.BatchNorm2d(num_features=256),\n",
    "            nn.ReLU(True),\n",
    "            nn.ConvTranspose2d(in_channels=256, out_channels=128, kernel_size=4, stride=2, padding=1, bias=False),\n",
    "            nn.BatchNorm2d(num_features=128),\n",
    "            nn.ReLU(True),\n",
    "            nn.ConvTranspose2d(in_channels=128, out_channels=64, kernel_size=4, stride=2, padding=1, bias=False),\n",
    "            nn.BatchNorm2d(num_features=64),\n",
    "            nn.ReLU(True),   \n",
    "            nn.ConvTranspose2d(in_channels=64, out_channels=1, kernel_size=4, stride=2, padding=1, bias=False),\n",
    "            nn.Tanh()\n",
    "        )\n",
    "    \n",
    "    def forward(self, x):\n",
    "        return self.main(x)"
   ]
  },
  {
   "cell_type": "code",
   "execution_count": 8,
   "metadata": {},
   "outputs": [
    {
     "name": "stdout",
     "output_type": "stream",
     "text": [
      "Generator(\n",
      "  (main): Sequential(\n",
      "    (0): ConvTranspose2d(100, 512, kernel_size=(4, 4), stride=(1, 1), bias=False)\n",
      "    (1): BatchNorm2d(512, eps=1e-05, momentum=0.1, affine=True, track_running_stats=True)\n",
      "    (2): ReLU(inplace=True)\n",
      "    (3): ConvTranspose2d(512, 256, kernel_size=(4, 4), stride=(2, 2), padding=(1, 1), bias=False)\n",
      "    (4): BatchNorm2d(256, eps=1e-05, momentum=0.1, affine=True, track_running_stats=True)\n",
      "    (5): ReLU(inplace=True)\n",
      "    (6): ConvTranspose2d(256, 128, kernel_size=(4, 4), stride=(2, 2), padding=(1, 1), bias=False)\n",
      "    (7): BatchNorm2d(128, eps=1e-05, momentum=0.1, affine=True, track_running_stats=True)\n",
      "    (8): ReLU(inplace=True)\n",
      "    (9): ConvTranspose2d(128, 64, kernel_size=(4, 4), stride=(2, 2), padding=(1, 1), bias=False)\n",
      "    (10): BatchNorm2d(64, eps=1e-05, momentum=0.1, affine=True, track_running_stats=True)\n",
      "    (11): ReLU(inplace=True)\n",
      "    (12): ConvTranspose2d(64, 1, kernel_size=(4, 4), stride=(2, 2), padding=(1, 1), bias=False)\n",
      "    (13): Tanh()\n",
      "  )\n",
      ")\n"
     ]
    }
   ],
   "source": [
    "generator = Generator()\n",
    "generator.apply(weights_init)\n",
    "print(generator)"
   ]
  },
  {
   "cell_type": "code",
   "execution_count": 9,
   "metadata": {},
   "outputs": [],
   "source": [
    "class Discriminator(nn.Module):\n",
    "    def __init__(self):\n",
    "        super(Discriminator, self).__init__()\n",
    "        self.main = nn.Sequential(\n",
    "            nn.Conv2d(in_channels=1, out_channels=64, kernel_size=4, stride=2, padding=1, bias=False),\n",
    "            nn.LeakyReLU(inplace=True),\n",
    "            nn.Conv2d(in_channels=64, out_channels=128, kernel_size=4, stride=2, padding=1, bias=False),\n",
    "            nn.BatchNorm2d(num_features=128),\n",
    "            nn.LeakyReLU(inplace=True),\n",
    "            nn.Conv2d(in_channels=128, out_channels=256, kernel_size=4, stride=2, padding=1, bias=False),\n",
    "            nn.BatchNorm2d(num_features=256),\n",
    "            nn.LeakyReLU(inplace=True),\n",
    "            nn.Conv2d(in_channels=256, out_channels=512, kernel_size=4, stride=2, padding=1, bias=False),\n",
    "            nn.BatchNorm2d(num_features=512),\n",
    "            nn.LeakyReLU(inplace=True),\n",
    "            nn.Conv2d(in_channels=512, out_channels=1, kernel_size=4, stride=1, padding=0, bias=False),\n",
    "            nn.Sigmoid()\n",
    "        )\n",
    "    \n",
    "    def forward(self, x):\n",
    "        return self.main(x)\n",
    "        "
   ]
  },
  {
   "cell_type": "code",
   "execution_count": 10,
   "metadata": {},
   "outputs": [
    {
     "name": "stdout",
     "output_type": "stream",
     "text": [
      "Discriminator(\n",
      "  (main): Sequential(\n",
      "    (0): Conv2d(1, 64, kernel_size=(4, 4), stride=(2, 2), padding=(1, 1), bias=False)\n",
      "    (1): LeakyReLU(negative_slope=0.01, inplace=True)\n",
      "    (2): Conv2d(64, 128, kernel_size=(4, 4), stride=(2, 2), padding=(1, 1), bias=False)\n",
      "    (3): BatchNorm2d(128, eps=1e-05, momentum=0.1, affine=True, track_running_stats=True)\n",
      "    (4): LeakyReLU(negative_slope=0.01, inplace=True)\n",
      "    (5): Conv2d(128, 256, kernel_size=(4, 4), stride=(2, 2), padding=(1, 1), bias=False)\n",
      "    (6): BatchNorm2d(256, eps=1e-05, momentum=0.1, affine=True, track_running_stats=True)\n",
      "    (7): LeakyReLU(negative_slope=0.01, inplace=True)\n",
      "    (8): Conv2d(256, 512, kernel_size=(4, 4), stride=(2, 2), padding=(1, 1), bias=False)\n",
      "    (9): BatchNorm2d(512, eps=1e-05, momentum=0.1, affine=True, track_running_stats=True)\n",
      "    (10): LeakyReLU(negative_slope=0.01, inplace=True)\n",
      "    (11): Conv2d(512, 1, kernel_size=(4, 4), stride=(1, 1), bias=False)\n",
      "    (12): Sigmoid()\n",
      "  )\n",
      ")\n"
     ]
    }
   ],
   "source": [
    "discriminator = Discriminator()\n",
    "discriminator.apply(weights_init)\n",
    "print(discriminator)"
   ]
  },
  {
   "cell_type": "code",
   "execution_count": 11,
   "metadata": {},
   "outputs": [],
   "source": [
    "real_label = 1.\n",
    "fake_label = 0.\n",
    "\n",
    "fixed_noise = torch.randn(size=(batch_size, noise_size, 1, 1))"
   ]
  },
  {
   "cell_type": "code",
   "execution_count": 12,
   "metadata": {},
   "outputs": [],
   "source": [
    "loss = nn.BCELoss()\n",
    "\n",
    "optimizer_discriminator = torch.optim.Adam(params=discriminator.parameters(), lr=0.0002)\n",
    "optimizer_generator = torch.optim.Adam(params=generator.parameters(), lr=0.0002)"
   ]
  },
  {
   "cell_type": "markdown",
   "metadata": {},
   "source": [
    "#### Training"
   ]
  },
  {
   "cell_type": "code",
   "execution_count": 15,
   "metadata": {},
   "outputs": [
    {
     "name": "stderr",
     "output_type": "stream",
     "text": [
      "0it [00:00, ?it/s]"
     ]
    },
    {
     "name": "stdout",
     "output_type": "stream",
     "text": [
      "Epoch #0 \t Loss_D=0.0 \t Loss_G=11.9 \t D(x)=0.9999993443489075 \t D(G(z_1))=7.29880321159726e-06 \t D(G(z_2))=11.904664993286133\n"
     ]
    },
    {
     "name": "stderr",
     "output_type": "stream",
     "text": [
      "51it [02:17,  2.66s/it]"
     ]
    },
    {
     "name": "stdout",
     "output_type": "stream",
     "text": [
      "Epoch #0 \t Loss_D=0.0 \t Loss_G=12.17 \t D(x)=0.9999988079071045 \t D(G(z_1))=5.597265044343658e-06 \t D(G(z_2))=12.169418334960938\n"
     ]
    },
    {
     "name": "stderr",
     "output_type": "stream",
     "text": [
      "101it [04:31,  2.62s/it]"
     ]
    },
    {
     "name": "stdout",
     "output_type": "stream",
     "text": [
      "Epoch #0 \t Loss_D=0.0 \t Loss_G=12.17 \t D(x)=0.9999959468841553 \t D(G(z_1))=5.936269189987797e-06 \t D(G(z_2))=12.171107292175293\n"
     ]
    },
    {
     "name": "stderr",
     "output_type": "stream",
     "text": [
      "151it [06:45,  2.66s/it]"
     ]
    },
    {
     "name": "stdout",
     "output_type": "stream",
     "text": [
      "Epoch #0 \t Loss_D=0.0 \t Loss_G=12.15 \t D(x)=0.9999969601631165 \t D(G(z_1))=5.6885351114033256e-06 \t D(G(z_2))=12.149041175842285\n"
     ]
    },
    {
     "name": "stderr",
     "output_type": "stream",
     "text": [
      "201it [09:01,  2.72s/it]"
     ]
    },
    {
     "name": "stdout",
     "output_type": "stream",
     "text": [
      "Epoch #0 \t Loss_D=0.0 \t Loss_G=11.98 \t D(x)=0.9999991655349731 \t D(G(z_1))=6.825687250966439e-06 \t D(G(z_2))=11.983932495117188\n"
     ]
    },
    {
     "name": "stderr",
     "output_type": "stream",
     "text": [
      "251it [11:17,  2.71s/it]"
     ]
    },
    {
     "name": "stdout",
     "output_type": "stream",
     "text": [
      "Epoch #0 \t Loss_D=0.0 \t Loss_G=11.98 \t D(x)=0.999999463558197 \t D(G(z_1))=6.823825060564559e-06 \t D(G(z_2))=11.978282928466797\n"
     ]
    },
    {
     "name": "stderr",
     "output_type": "stream",
     "text": [
      "301it [13:34,  2.75s/it]"
     ]
    },
    {
     "name": "stdout",
     "output_type": "stream",
     "text": [
      "Epoch #0 \t Loss_D=0.0 \t Loss_G=12.03 \t D(x)=0.9999986290931702 \t D(G(z_1))=6.423352715501096e-06 \t D(G(z_2))=12.026905059814453\n"
     ]
    },
    {
     "name": "stderr",
     "output_type": "stream",
     "text": [
      "351it [15:55,  2.77s/it]"
     ]
    },
    {
     "name": "stdout",
     "output_type": "stream",
     "text": [
      "Epoch #0 \t Loss_D=0.0 \t Loss_G=11.93 \t D(x)=0.9999983906745911 \t D(G(z_1))=7.1628292062086985e-06 \t D(G(z_2))=11.934114456176758\n"
     ]
    },
    {
     "name": "stderr",
     "output_type": "stream",
     "text": [
      "401it [18:14,  2.82s/it]"
     ]
    },
    {
     "name": "stdout",
     "output_type": "stream",
     "text": [
      "Epoch #0 \t Loss_D=0.0 \t Loss_G=11.86 \t D(x)=0.9999980330467224 \t D(G(z_1))=7.669472324778326e-06 \t D(G(z_2))=11.861115455627441\n"
     ]
    },
    {
     "name": "stderr",
     "output_type": "stream",
     "text": [
      "451it [20:32,  2.76s/it]"
     ]
    },
    {
     "name": "stdout",
     "output_type": "stream",
     "text": [
      "Epoch #0 \t Loss_D=0.0 \t Loss_G=12.03 \t D(x)=0.9999977350234985 \t D(G(z_1))=6.359091457852628e-06 \t D(G(z_2))=12.033803939819336\n"
     ]
    },
    {
     "name": "stderr",
     "output_type": "stream",
     "text": [
      "500it [22:48,  2.73s/it]"
     ]
    },
    {
     "name": "stdout",
     "output_type": "stream",
     "text": [
      "Epoch #0 \t Loss_D=0.0 \t Loss_G=12.61 \t D(x)=0.9999988675117493 \t D(G(z_1))=3.673143282867386e-06 \t D(G(z_2))=12.611016273498535\n"
     ]
    },
    {
     "name": "stderr",
     "output_type": "stream",
     "text": [
      "551it [25:13,  3.17s/it]"
     ]
    },
    {
     "name": "stdout",
     "output_type": "stream",
     "text": [
      "Epoch #0 \t Loss_D=0.0 \t Loss_G=12.69 \t D(x)=0.9999987483024597 \t D(G(z_1))=3.2708105663914466e-06 \t D(G(z_2))=12.688148498535156\n"
     ]
    },
    {
     "name": "stderr",
     "output_type": "stream",
     "text": [
      "601it [27:33,  2.80s/it]"
     ]
    },
    {
     "name": "stdout",
     "output_type": "stream",
     "text": [
      "Epoch #0 \t Loss_D=0.0 \t Loss_G=12.69 \t D(x)=0.9999988675117493 \t D(G(z_1))=3.231694790883921e-06 \t D(G(z_2))=12.689228057861328\n"
     ]
    },
    {
     "name": "stderr",
     "output_type": "stream",
     "text": [
      "651it [29:52,  2.74s/it]"
     ]
    },
    {
     "name": "stdout",
     "output_type": "stream",
     "text": [
      "Epoch #0 \t Loss_D=0.0 \t Loss_G=12.66 \t D(x)=0.9999995231628418 \t D(G(z_1))=3.404921244509751e-06 \t D(G(z_2))=12.657533645629883\n"
     ]
    },
    {
     "name": "stderr",
     "output_type": "stream",
     "text": [
      "701it [32:11,  2.78s/it]"
     ]
    },
    {
     "name": "stdout",
     "output_type": "stream",
     "text": [
      "Epoch #0 \t Loss_D=0.0 \t Loss_G=12.8 \t D(x)=0.9999997019767761 \t D(G(z_1))=2.9131813334970502e-06 \t D(G(z_2))=12.799654006958008\n"
     ]
    },
    {
     "name": "stderr",
     "output_type": "stream",
     "text": [
      "751it [34:31,  2.77s/it]"
     ]
    },
    {
     "name": "stdout",
     "output_type": "stream",
     "text": [
      "Epoch #0 \t Loss_D=0.0 \t Loss_G=12.91 \t D(x)=0.9999995827674866 \t D(G(z_1))=2.564866008469835e-06 \t D(G(z_2))=12.913614273071289\n"
     ]
    },
    {
     "name": "stderr",
     "output_type": "stream",
     "text": [
      "801it [36:52,  2.82s/it]"
     ]
    },
    {
     "name": "stdout",
     "output_type": "stream",
     "text": [
      "Epoch #0 \t Loss_D=0.0 \t Loss_G=12.97 \t D(x)=0.999995768070221 \t D(G(z_1))=2.434480393276317e-06 \t D(G(z_2))=12.968132972717285\n"
     ]
    },
    {
     "name": "stderr",
     "output_type": "stream",
     "text": [
      "851it [39:13,  2.87s/it]"
     ]
    },
    {
     "name": "stdout",
     "output_type": "stream",
     "text": [
      "Epoch #0 \t Loss_D=0.0 \t Loss_G=12.91 \t D(x)=0.9999997019767761 \t D(G(z_1))=2.5965307486330858e-06 \t D(G(z_2))=12.907063484191895\n"
     ]
    },
    {
     "name": "stderr",
     "output_type": "stream",
     "text": [
      "901it [41:34,  2.84s/it]"
     ]
    },
    {
     "name": "stdout",
     "output_type": "stream",
     "text": [
      "Epoch #0 \t Loss_D=0.0 \t Loss_G=12.89 \t D(x)=0.9999990463256836 \t D(G(z_1))=2.654272975632921e-06 \t D(G(z_2))=12.886539459228516\n"
     ]
    },
    {
     "name": "stderr",
     "output_type": "stream",
     "text": [
      "938it [43:20,  2.77s/it]\n",
      "1it [00:05,  5.30s/it]"
     ]
    },
    {
     "name": "stdout",
     "output_type": "stream",
     "text": [
      "Epoch #1 \t Loss_D=0.0 \t Loss_G=13.06 \t D(x)=0.9999980330467224 \t D(G(z_1))=2.2184128738444997e-06 \t D(G(z_2))=13.061188697814941\n"
     ]
    },
    {
     "name": "stderr",
     "output_type": "stream",
     "text": [
      "51it [02:27,  2.78s/it]"
     ]
    },
    {
     "name": "stdout",
     "output_type": "stream",
     "text": [
      "Epoch #1 \t Loss_D=0.0 \t Loss_G=13.26 \t D(x)=0.9999992847442627 \t D(G(z_1))=1.7918662251759088e-06 \t D(G(z_2))=13.262421607971191\n"
     ]
    },
    {
     "name": "stderr",
     "output_type": "stream",
     "text": [
      "101it [04:49,  2.86s/it]"
     ]
    },
    {
     "name": "stdout",
     "output_type": "stream",
     "text": [
      "Epoch #1 \t Loss_D=0.0 \t Loss_G=13.4 \t D(x)=0.9999982118606567 \t D(G(z_1))=1.5459966107300716e-06 \t D(G(z_2))=13.404848098754883\n"
     ]
    },
    {
     "name": "stderr",
     "output_type": "stream",
     "text": [
      "151it [07:12,  2.84s/it]"
     ]
    },
    {
     "name": "stdout",
     "output_type": "stream",
     "text": [
      "Epoch #1 \t Loss_D=0.0 \t Loss_G=13.27 \t D(x)=0.9999997019767761 \t D(G(z_1))=1.8086302588926628e-06 \t D(G(z_2))=13.267890930175781\n"
     ]
    },
    {
     "name": "stderr",
     "output_type": "stream",
     "text": [
      "201it [09:36,  2.88s/it]"
     ]
    },
    {
     "name": "stdout",
     "output_type": "stream",
     "text": [
      "Epoch #1 \t Loss_D=0.0 \t Loss_G=13.18 \t D(x)=0.9999964237213135 \t D(G(z_1))=1.9483286450849846e-06 \t D(G(z_2))=13.17833137512207\n"
     ]
    },
    {
     "name": "stderr",
     "output_type": "stream",
     "text": [
      "251it [12:04,  2.91s/it]"
     ]
    },
    {
     "name": "stdout",
     "output_type": "stream",
     "text": [
      "Epoch #1 \t Loss_D=0.0 \t Loss_G=13.28 \t D(x)=0.9999998807907104 \t D(G(z_1))=1.7806904679673607e-06 \t D(G(z_2))=13.282920837402344\n"
     ]
    },
    {
     "name": "stderr",
     "output_type": "stream",
     "text": [
      "301it [14:37,  2.73s/it]"
     ]
    },
    {
     "name": "stdout",
     "output_type": "stream",
     "text": [
      "Epoch #1 \t Loss_D=0.0 \t Loss_G=13.36 \t D(x)=0.9999994039535522 \t D(G(z_1))=1.6307471923937555e-06 \t D(G(z_2))=13.356117248535156\n"
     ]
    },
    {
     "name": "stderr",
     "output_type": "stream",
     "text": [
      "351it [16:59,  3.16s/it]"
     ]
    },
    {
     "name": "stdout",
     "output_type": "stream",
     "text": [
      "Epoch #1 \t Loss_D=0.0 \t Loss_G=13.45 \t D(x)=0.9999994039535522 \t D(G(z_1))=1.5115376754692988e-06 \t D(G(z_2))=13.454423904418945\n"
     ]
    },
    {
     "name": "stderr",
     "output_type": "stream",
     "text": [
      "401it [19:21,  2.66s/it]"
     ]
    },
    {
     "name": "stdout",
     "output_type": "stream",
     "text": [
      "Epoch #1 \t Loss_D=0.0 \t Loss_G=13.4 \t D(x)=0.9999995231628418 \t D(G(z_1))=1.5823181911400752e-06 \t D(G(z_2))=13.397616386413574\n"
     ]
    },
    {
     "name": "stderr",
     "output_type": "stream",
     "text": [
      "451it [21:31,  2.57s/it]"
     ]
    },
    {
     "name": "stdout",
     "output_type": "stream",
     "text": [
      "Epoch #1 \t Loss_D=0.0 \t Loss_G=13.4 \t D(x)=0.999999463558197 \t D(G(z_1))=1.5674169162593898e-06 \t D(G(z_2))=13.39658260345459\n"
     ]
    },
    {
     "name": "stderr",
     "output_type": "stream",
     "text": [
      "501it [23:38,  2.54s/it]"
     ]
    },
    {
     "name": "stdout",
     "output_type": "stream",
     "text": [
      "Epoch #1 \t Loss_D=0.0 \t Loss_G=13.49 \t D(x)=0.9999995231628418 \t D(G(z_1))=1.4202678357833065e-06 \t D(G(z_2))=13.494873046875\n"
     ]
    },
    {
     "name": "stderr",
     "output_type": "stream",
     "text": [
      "551it [25:45,  2.53s/it]"
     ]
    },
    {
     "name": "stdout",
     "output_type": "stream",
     "text": [
      "Epoch #1 \t Loss_D=0.0 \t Loss_G=13.5 \t D(x)=0.9999996423721313 \t D(G(z_1))=1.4221305946193752e-06 \t D(G(z_2))=13.497613906860352\n"
     ]
    },
    {
     "name": "stderr",
     "output_type": "stream",
     "text": [
      "601it [27:53,  2.57s/it]"
     ]
    },
    {
     "name": "stdout",
     "output_type": "stream",
     "text": [
      "Epoch #1 \t Loss_D=0.0 \t Loss_G=13.45 \t D(x)=0.9999992251396179 \t D(G(z_1))=1.4873231748424587e-06 \t D(G(z_2))=13.446834564208984\n"
     ]
    },
    {
     "name": "stderr",
     "output_type": "stream",
     "text": [
      "651it [30:00,  2.54s/it]"
     ]
    },
    {
     "name": "stdout",
     "output_type": "stream",
     "text": [
      "Epoch #1 \t Loss_D=0.0 \t Loss_G=13.57 \t D(x)=0.9999995231628418 \t D(G(z_1))=1.3504186426871456e-06 \t D(G(z_2))=13.566129684448242\n"
     ]
    },
    {
     "name": "stderr",
     "output_type": "stream",
     "text": [
      "701it [32:07,  2.55s/it]"
     ]
    },
    {
     "name": "stdout",
     "output_type": "stream",
     "text": [
      "Epoch #1 \t Loss_D=0.0 \t Loss_G=13.68 \t D(x)=0.9999998807907104 \t D(G(z_1))=1.1865057558679837e-06 \t D(G(z_2))=13.68384838104248\n"
     ]
    },
    {
     "name": "stderr",
     "output_type": "stream",
     "text": [
      "751it [34:12,  2.46s/it]"
     ]
    },
    {
     "name": "stdout",
     "output_type": "stream",
     "text": [
      "Epoch #1 \t Loss_D=0.0 \t Loss_G=13.65 \t D(x)=0.9999997019767761 \t D(G(z_1))=1.2088574976587552e-06 \t D(G(z_2))=13.651644706726074\n"
     ]
    },
    {
     "name": "stderr",
     "output_type": "stream",
     "text": [
      "801it [36:15,  2.46s/it]"
     ]
    },
    {
     "name": "stdout",
     "output_type": "stream",
     "text": [
      "Epoch #1 \t Loss_D=0.0 \t Loss_G=13.72 \t D(x)=0.999998927116394 \t D(G(z_1))=1.1334202554280637e-06 \t D(G(z_2))=13.721330642700195\n"
     ]
    },
    {
     "name": "stderr",
     "output_type": "stream",
     "text": [
      "851it [38:18,  2.46s/it]"
     ]
    },
    {
     "name": "stdout",
     "output_type": "stream",
     "text": [
      "Epoch #1 \t Loss_D=0.0 \t Loss_G=13.71 \t D(x)=0.9999993443489075 \t D(G(z_1))=1.132489046540286e-06 \t D(G(z_2))=13.710609436035156\n"
     ]
    },
    {
     "name": "stderr",
     "output_type": "stream",
     "text": [
      "901it [40:20,  2.45s/it]"
     ]
    },
    {
     "name": "stdout",
     "output_type": "stream",
     "text": [
      "Epoch #1 \t Loss_D=0.0 \t Loss_G=13.83 \t D(x)=0.999999463558197 \t D(G(z_1))=1.016073383652838e-06 \t D(G(z_2))=13.831701278686523\n"
     ]
    },
    {
     "name": "stderr",
     "output_type": "stream",
     "text": [
      "938it [41:50,  2.68s/it]\n",
      "1it [00:04,  4.31s/it]"
     ]
    },
    {
     "name": "stdout",
     "output_type": "stream",
     "text": [
      "Epoch #2 \t Loss_D=0.0 \t Loss_G=13.87 \t D(x)=0.9999985694885254 \t D(G(z_1))=9.769578355189878e-07 \t D(G(z_2))=13.867162704467773\n"
     ]
    },
    {
     "name": "stderr",
     "output_type": "stream",
     "text": [
      "51it [02:06,  2.45s/it]"
     ]
    },
    {
     "name": "stdout",
     "output_type": "stream",
     "text": [
      "Epoch #2 \t Loss_D=0.0 \t Loss_G=13.82 \t D(x)=0.9999998211860657 \t D(G(z_1))=1.024455400511215e-06 \t D(G(z_2))=13.824374198913574\n"
     ]
    },
    {
     "name": "stderr",
     "output_type": "stream",
     "text": [
      "101it [04:09,  2.45s/it]"
     ]
    },
    {
     "name": "stdout",
     "output_type": "stream",
     "text": [
      "Epoch #2 \t Loss_D=0.0 \t Loss_G=13.61 \t D(x)=0.9999999403953552 \t D(G(z_1))=1.267530933546368e-06 \t D(G(z_2))=13.611611366271973\n"
     ]
    },
    {
     "name": "stderr",
     "output_type": "stream",
     "text": [
      "151it [06:12,  2.45s/it]"
     ]
    },
    {
     "name": "stdout",
     "output_type": "stream",
     "text": [
      "Epoch #2 \t Loss_D=0.0 \t Loss_G=13.47 \t D(x)=0.9999995231628418 \t D(G(z_1))=1.464971546738525e-06 \t D(G(z_2))=13.469727516174316\n"
     ]
    },
    {
     "name": "stderr",
     "output_type": "stream",
     "text": [
      "201it [08:15,  2.45s/it]"
     ]
    },
    {
     "name": "stdout",
     "output_type": "stream",
     "text": [
      "Epoch #2 \t Loss_D=0.0 \t Loss_G=13.65 \t D(x)=0.9999996423721313 \t D(G(z_1))=1.2218960137033719e-06 \t D(G(z_2))=13.650463104248047\n"
     ]
    },
    {
     "name": "stderr",
     "output_type": "stream",
     "text": [
      "251it [10:17,  2.45s/it]"
     ]
    },
    {
     "name": "stdout",
     "output_type": "stream",
     "text": [
      "Epoch #2 \t Loss_D=0.0 \t Loss_G=13.83 \t D(x)=0.9999997615814209 \t D(G(z_1))=1.0095541256305296e-06 \t D(G(z_2))=13.8346586227417\n"
     ]
    },
    {
     "name": "stderr",
     "output_type": "stream",
     "text": [
      "301it [12:20,  2.44s/it]"
     ]
    },
    {
     "name": "stdout",
     "output_type": "stream",
     "text": [
      "Epoch #2 \t Loss_D=0.0 \t Loss_G=13.67 \t D(x)=0.9999998807907104 \t D(G(z_1))=1.2116514653826016e-06 \t D(G(z_2))=13.6717529296875\n"
     ]
    },
    {
     "name": "stderr",
     "output_type": "stream",
     "text": [
      "351it [14:23,  2.45s/it]"
     ]
    },
    {
     "name": "stdout",
     "output_type": "stream",
     "text": [
      "Epoch #2 \t Loss_D=0.0 \t Loss_G=13.66 \t D(x)=0.9999991655349731 \t D(G(z_1))=1.2116514653826016e-06 \t D(G(z_2))=13.657530784606934\n"
     ]
    },
    {
     "name": "stderr",
     "output_type": "stream",
     "text": [
      "401it [16:25,  2.43s/it]"
     ]
    },
    {
     "name": "stdout",
     "output_type": "stream",
     "text": [
      "Epoch #2 \t Loss_D=0.0 \t Loss_G=13.67 \t D(x)=0.9999994039535522 \t D(G(z_1))=1.2014069170618313e-06 \t D(G(z_2))=13.66899585723877\n"
     ]
    },
    {
     "name": "stderr",
     "output_type": "stream",
     "text": [
      "451it [18:25,  2.46s/it]"
     ]
    },
    {
     "name": "stdout",
     "output_type": "stream",
     "text": [
      "Epoch #2 \t Loss_D=0.0 \t Loss_G=13.48 \t D(x)=0.9999991655349731 \t D(G(z_1))=1.472422013648611e-06 \t D(G(z_2))=13.48022747039795\n"
     ]
    },
    {
     "name": "stderr",
     "output_type": "stream",
     "text": [
      "501it [20:28,  2.45s/it]"
     ]
    },
    {
     "name": "stdout",
     "output_type": "stream",
     "text": [
      "Epoch #2 \t Loss_D=0.0 \t Loss_G=13.37 \t D(x)=0.9999992847442627 \t D(G(z_1))=1.6428546132374322e-06 \t D(G(z_2))=13.366823196411133\n"
     ]
    },
    {
     "name": "stderr",
     "output_type": "stream",
     "text": [
      "551it [22:30,  2.45s/it]"
     ]
    },
    {
     "name": "stdout",
     "output_type": "stream",
     "text": [
      "Epoch #2 \t Loss_D=0.0 \t Loss_G=13.44 \t D(x)=0.9999988675117493 \t D(G(z_1))=1.5515845461777644e-06 \t D(G(z_2))=13.439863204956055\n"
     ]
    },
    {
     "name": "stderr",
     "output_type": "stream",
     "text": [
      "601it [24:33,  2.46s/it]"
     ]
    },
    {
     "name": "stdout",
     "output_type": "stream",
     "text": [
      "Epoch #2 \t Loss_D=0.0 \t Loss_G=13.59 \t D(x)=0.9999997019767761 \t D(G(z_1))=1.3234102880232967e-06 \t D(G(z_2))=13.590757369995117\n"
     ]
    },
    {
     "name": "stderr",
     "output_type": "stream",
     "text": [
      "651it [26:36,  2.46s/it]"
     ]
    },
    {
     "name": "stdout",
     "output_type": "stream",
     "text": [
      "Epoch #2 \t Loss_D=0.0 \t Loss_G=13.73 \t D(x)=0.9999988079071045 \t D(G(z_1))=1.1324889328534482e-06 \t D(G(z_2))=13.733847618103027\n"
     ]
    },
    {
     "name": "stderr",
     "output_type": "stream",
     "text": [
      "701it [28:39,  2.45s/it]"
     ]
    },
    {
     "name": "stdout",
     "output_type": "stream",
     "text": [
      "Epoch #2 \t Loss_D=0.0 \t Loss_G=13.74 \t D(x)=0.9999999403953552 \t D(G(z_1))=1.1222444982195157e-06 \t D(G(z_2))=13.738651275634766\n"
     ]
    },
    {
     "name": "stderr",
     "output_type": "stream",
     "text": [
      "751it [30:41,  2.44s/it]"
     ]
    },
    {
     "name": "stdout",
     "output_type": "stream",
     "text": [
      "Epoch #2 \t Loss_D=0.0 \t Loss_G=13.83 \t D(x)=0.9999997615814209 \t D(G(z_1))=1.0300433359589078e-06 \t D(G(z_2))=13.828693389892578\n"
     ]
    },
    {
     "name": "stderr",
     "output_type": "stream",
     "text": [
      "801it [32:44,  2.45s/it]"
     ]
    },
    {
     "name": "stdout",
     "output_type": "stream",
     "text": [
      "Epoch #2 \t Loss_D=0.0 \t Loss_G=13.44 \t D(x)=0.9999997019767761 \t D(G(z_1))=1.518988142379385e-06 \t D(G(z_2))=13.4419584274292\n"
     ]
    },
    {
     "name": "stderr",
     "output_type": "stream",
     "text": [
      "851it [34:47,  2.46s/it]"
     ]
    },
    {
     "name": "stdout",
     "output_type": "stream",
     "text": [
      "Epoch #2 \t Loss_D=0.0 \t Loss_G=13.53 \t D(x)=0.9999997615814209 \t D(G(z_1))=1.4109546100371517e-06 \t D(G(z_2))=13.533403396606445\n"
     ]
    },
    {
     "name": "stderr",
     "output_type": "stream",
     "text": [
      "901it [36:50,  2.46s/it]"
     ]
    },
    {
     "name": "stdout",
     "output_type": "stream",
     "text": [
      "Epoch #2 \t Loss_D=0.0 \t Loss_G=13.21 \t D(x)=0.999999463558197 \t D(G(z_1))=1.9837191302940482e-06 \t D(G(z_2))=13.214576721191406\n"
     ]
    },
    {
     "name": "stderr",
     "output_type": "stream",
     "text": [
      "938it [38:20,  2.45s/it]\n",
      "1it [00:03,  3.97s/it]"
     ]
    },
    {
     "name": "stdout",
     "output_type": "stream",
     "text": [
      "Epoch #3 \t Loss_D=0.0 \t Loss_G=12.83 \t D(x)=0.9999996423721313 \t D(G(z_1))=2.9364646252361126e-06 \t D(G(z_2))=12.825531959533691\n"
     ]
    },
    {
     "name": "stderr",
     "output_type": "stream",
     "text": [
      "51it [02:06,  2.45s/it]"
     ]
    },
    {
     "name": "stdout",
     "output_type": "stream",
     "text": [
      "Epoch #3 \t Loss_D=0.0 \t Loss_G=13.1 \t D(x)=0.9999971985816956 \t D(G(z_1))=2.2882620669406606e-06 \t D(G(z_2))=13.102108001708984\n"
     ]
    },
    {
     "name": "stderr",
     "output_type": "stream",
     "text": [
      "101it [04:09,  2.45s/it]"
     ]
    },
    {
     "name": "stdout",
     "output_type": "stream",
     "text": [
      "Epoch #3 \t Loss_D=0.0 \t Loss_G=12.81 \t D(x)=0.9999995231628418 \t D(G(z_1))=2.9094560431985883e-06 \t D(G(z_2))=12.813003540039062\n"
     ]
    },
    {
     "name": "stderr",
     "output_type": "stream",
     "text": [
      "151it [06:12,  2.46s/it]"
     ]
    },
    {
     "name": "stdout",
     "output_type": "stream",
     "text": [
      "Epoch #3 \t Loss_D=0.0 \t Loss_G=13.2 \t D(x)=0.9999979138374329 \t D(G(z_1))=2.19047296923236e-06 \t D(G(z_2))=13.202710151672363\n"
     ]
    },
    {
     "name": "stderr",
     "output_type": "stream",
     "text": [
      "201it [08:15,  2.45s/it]"
     ]
    },
    {
     "name": "stdout",
     "output_type": "stream",
     "text": [
      "Epoch #3 \t Loss_D=0.0 \t Loss_G=12.27 \t D(x)=0.9999996423721313 \t D(G(z_1))=6.398207460733829e-06 \t D(G(z_2))=12.271862030029297\n"
     ]
    },
    {
     "name": "stderr",
     "output_type": "stream",
     "text": [
      "251it [10:18,  2.47s/it]"
     ]
    },
    {
     "name": "stdout",
     "output_type": "stream",
     "text": [
      "Epoch #3 \t Loss_D=0.0 \t Loss_G=11.47 \t D(x)=0.9999920129776001 \t D(G(z_1))=1.3586227396444883e-05 \t D(G(z_2))=11.474207878112793\n"
     ]
    },
    {
     "name": "stderr",
     "output_type": "stream",
     "text": [
      "301it [12:21,  2.45s/it]"
     ]
    },
    {
     "name": "stdout",
     "output_type": "stream",
     "text": [
      "Epoch #3 \t Loss_D=0.0 \t Loss_G=12.4 \t D(x)=0.9999998807907104 \t D(G(z_1))=8.393115422222763e-06 \t D(G(z_2))=12.40412712097168\n"
     ]
    },
    {
     "name": "stderr",
     "output_type": "stream",
     "text": [
      "351it [14:23,  2.45s/it]"
     ]
    },
    {
     "name": "stdout",
     "output_type": "stream",
     "text": [
      "Epoch #3 \t Loss_D=0.0 \t Loss_G=14.23 \t D(x)=0.9999980330467224 \t D(G(z_1))=1.2004755944872159e-06 \t D(G(z_2))=14.230920791625977\n"
     ]
    },
    {
     "name": "stderr",
     "output_type": "stream",
     "text": [
      "401it [16:26,  2.46s/it]"
     ]
    },
    {
     "name": "stdout",
     "output_type": "stream",
     "text": [
      "Epoch #3 \t Loss_D=0.0 \t Loss_G=15.25 \t D(x)=0.9999768137931824 \t D(G(z_1))=1.6577541828155518e-07 \t D(G(z_2))=15.251399040222168\n"
     ]
    },
    {
     "name": "stderr",
     "output_type": "stream",
     "text": [
      "451it [18:29,  2.45s/it]"
     ]
    },
    {
     "name": "stdout",
     "output_type": "stream",
     "text": [
      "Epoch #3 \t Loss_D=0.0 \t Loss_G=13.83 \t D(x)=0.9999997615814209 \t D(G(z_1))=1.1567034334802884e-06 \t D(G(z_2))=13.83238410949707\n"
     ]
    },
    {
     "name": "stderr",
     "output_type": "stream",
     "text": [
      "501it [20:32,  2.46s/it]"
     ]
    },
    {
     "name": "stdout",
     "output_type": "stream",
     "text": [
      "Epoch #3 \t Loss_D=0.0 \t Loss_G=12.92 \t D(x)=0.9999973177909851 \t D(G(z_1))=3.5064356325165136e-06 \t D(G(z_2))=12.918811798095703\n"
     ]
    },
    {
     "name": "stderr",
     "output_type": "stream",
     "text": [
      "551it [22:35,  2.46s/it]"
     ]
    },
    {
     "name": "stdout",
     "output_type": "stream",
     "text": [
      "Epoch #3 \t Loss_D=0.0 \t Loss_G=13.66 \t D(x)=0.9999948740005493 \t D(G(z_1))=1.241453787770297e-06 \t D(G(z_2))=13.659088134765625\n"
     ]
    },
    {
     "name": "stderr",
     "output_type": "stream",
     "text": [
      "601it [24:37,  2.46s/it]"
     ]
    },
    {
     "name": "stdout",
     "output_type": "stream",
     "text": [
      "Epoch #3 \t Loss_D=0.0 \t Loss_G=13.22 \t D(x)=0.9999989867210388 \t D(G(z_1))=1.8812734197126701e-06 \t D(G(z_2))=13.223111152648926\n"
     ]
    },
    {
     "name": "stderr",
     "output_type": "stream",
     "text": [
      "651it [26:41,  2.45s/it]"
     ]
    },
    {
     "name": "stdout",
     "output_type": "stream",
     "text": [
      "Epoch #3 \t Loss_D=0.0 \t Loss_G=14.32 \t D(x)=0.9999949932098389 \t D(G(z_1))=3.362074778578972e-07 \t D(G(z_2))=14.317117691040039\n"
     ]
    },
    {
     "name": "stderr",
     "output_type": "stream",
     "text": [
      "701it [28:44,  2.45s/it]"
     ]
    },
    {
     "name": "stdout",
     "output_type": "stream",
     "text": [
      "Epoch #3 \t Loss_D=0.0 \t Loss_G=14.13 \t D(x)=0.9999997019767761 \t D(G(z_1))=8.400533602070936e-07 \t D(G(z_2))=14.129426956176758\n"
     ]
    },
    {
     "name": "stderr",
     "output_type": "stream",
     "text": [
      "751it [30:47,  2.47s/it]"
     ]
    },
    {
     "name": "stdout",
     "output_type": "stream",
     "text": [
      "Epoch #3 \t Loss_D=0.0 \t Loss_G=14.08 \t D(x)=0.9999993443489075 \t D(G(z_1))=1.018867465063522e-06 \t D(G(z_2))=14.0797700881958\n"
     ]
    },
    {
     "name": "stderr",
     "output_type": "stream",
     "text": [
      "801it [44:13, 46.53s/it]"
     ]
    },
    {
     "name": "stdout",
     "output_type": "stream",
     "text": [
      "Epoch #3 \t Loss_D=56.24 \t Loss_G=58.07 \t D(x)=5.592230026731095e-25 \t D(G(z_1))=0.0 \t D(G(z_2))=58.07221984863281\n"
     ]
    },
    {
     "name": "stderr",
     "output_type": "stream",
     "text": [
      "847it [1:19:46, 47.74s/it]"
     ]
    }
   ],
   "source": [
    "loss_discriminator = []\n",
    "loss_generator = []\n",
    "images_from_fixed_noise = []\n",
    "EPOCHS = 4\n",
    "counter = 0\n",
    "\n",
    "for epoch in range(EPOCHS):\n",
    "    for i, batch_data in tqdm(enumerate(dataloader, 0)):\n",
    "        # batch_data contains a pair of lists: < images `numpy.ndarray`, true labels >\n",
    "\n",
    "        # #############################################\n",
    "        # Training the Discriminator with a real batch\n",
    "        discriminator.zero_grad()  # \"PyTorch accumulates the gradients on subsequent backward passes\"\n",
    "        batch = batch_data[0].size(0)\n",
    "        labels = torch.full(size=(batch,), fill_value=real_label, dtype=torch.float)  # list of ones\n",
    "        discriminator_from_real_output = discriminator(batch_data[0]).view(-1)  # forward propagation\n",
    "        loss_discriminator_from_real_samples = loss(discriminator_from_real_output, labels)  # calculate the loss\n",
    "        loss_discriminator_from_real_samples.backward()  # back-propagate the gradient of the loss\n",
    "        d_x = discriminator_from_real_output.mean().item()  # get the predicted ouput, should converge to 0.5\n",
    "        \n",
    "        # #############################################\n",
    "        # Training the Discriminator with a fake batch\n",
    "        fake_noise = torch.randn(size=(batch, noise_size, 1, 1))  # generate latent fake vectors\n",
    "        fake_batch = generator(fake_noise)  # generate a fake batch of images by noise\n",
    "        labels.fill_(value=fake_label)  # list of zeroes\n",
    "        discriminator_from_fake_output = discriminator(fake_batch.detach()).view(-1)\n",
    "        loss_discriminator_from_fake_samples = loss(discriminator_from_fake_output, labels)\n",
    "        loss_discriminator_from_fake_samples.backward()  # back-propagate the gradient of the loss\n",
    "        d_g_z_1 = loss_discriminator_from_fake_samples.mean().item()  # get the predicted ouput, should converge to 0.5\n",
    "\n",
    "        loss_discriminator_from_real_and_fake_samples = loss_discriminator_from_real_samples + loss_discriminator_from_fake_samples\n",
    "        optimizer_discriminator.step()\n",
    "\n",
    "        # #############################################\n",
    "        # Training the Generator with random noise\n",
    "        generator.zero_grad()\n",
    "        labels.fill_(value=real_label)\n",
    "        generator_from_noise_output = discriminator(fake_batch).view(-1)\n",
    "        loss_generator_from_noise = loss(generator_from_noise_output, labels)\n",
    "        loss_generator_from_noise.backward()\n",
    "        d_g_z_2 = loss_generator_from_noise.mean().item()\n",
    "        optimizer_generator.step()\n",
    "\n",
    "        # Accessibility\n",
    "        loss_d = np.round(loss_discriminator_from_real_and_fake_samples.item(), 2)\n",
    "        loss_g = np.round(loss_generator_from_noise.item(), 2)\n",
    "        if i % 50 == 0:\n",
    "            print(f\"Epoch #{epoch} \\t Loss_D={loss_d} \\t Loss_G={loss_g} \\t D(x)={d_x} \\t D(G(z_1))={d_g_z_1} \\t D(G(z_2))={d_g_z_2}\")\n",
    "\n",
    "        loss_discriminator.append(loss_discriminator_from_real_and_fake_samples.item())\n",
    "        loss_generator.append(loss_generator_from_noise.item())\n",
    "\n",
    "        if (counter % 500 == 0) or ((epoch == EPOCHS-1) and (i == len(dataloader)-1)):\n",
    "            with torch.no_grad():\n",
    "                fake = generator(fixed_noise).detach().cpu()\n",
    "            images_from_fixed_noise.append(vutils.make_grid(fake, padding=2, normalize=True))\n",
    "\n",
    "        counter += 1"
   ]
  },
  {
   "cell_type": "code",
   "execution_count": null,
   "metadata": {},
   "outputs": [],
   "source": []
  }
 ],
 "metadata": {
  "interpreter": {
   "hash": "64689e8cfaf3b1a6014f0d7f2f290c1849c0d60709909de228356e490e4bb3ce"
  },
  "kernelspec": {
   "display_name": "Python 3.8.5 64-bit ('base': conda)",
   "name": "python3"
  },
  "language_info": {
   "codemirror_mode": {
    "name": "ipython",
    "version": 3
   },
   "file_extension": ".py",
   "mimetype": "text/x-python",
   "name": "python",
   "nbconvert_exporter": "python",
   "pygments_lexer": "ipython3",
   "version": "3.8.5"
  },
  "orig_nbformat": 4
 },
 "nbformat": 4,
 "nbformat_minor": 2
}
