{
 "cells": [
  {
   "cell_type": "markdown",
   "source": [
    "# Height vs Weight\r\n",
    "\r\n",
    "Welcome to Core Workshop 4: Polynomial Regression's live code session\r\n",
    "\r\n",
    "Today we are dealing with a csv toy dataset taken from Kaggle: [https://www.kaggle.com/sakshamjn/heightvsweight-for-linear-polynomial-regression](https://www.kaggle.com/sakshamjn/heightvsweight-for-linear-polynomial-regression), which records the **weight** and **height** of people (they are made up). The data is already cleaned.\r\n",
    "\r\n",
    "---"
   ],
   "metadata": {}
  },
  {
   "cell_type": "markdown",
   "source": [
    "## In this session we are using this data to build a `polynomial regression` model, trying to predict the **height** by a given **weight**"
   ],
   "metadata": {}
  },
  {
   "cell_type": "markdown",
   "source": [
    "# Explore + Split"
   ],
   "metadata": {}
  },
  {
   "cell_type": "code",
   "execution_count": null,
   "source": [
    "# Repeat previous processing\r\n",
    "import pandas as pd\r\n",
    "import matplotlib.pyplot as plt\r\n",
    "from sklearn.model_selection import train_test_split\r\n",
    "\r\n",
    "\r\n",
    "\r\n",
    "df = pd.read_csv(\"./data/HeightVsWeight.csv\")\r\n",
    "\r\n",
    "x = df.iloc[:, :1]\r\n",
    "y = df.iloc[:, 1:]\r\n",
    "\r\n",
    "plt.figure(figsize=(15, 6))\r\n",
    "plt.scatter(x, y, color=\"purple\")\r\n",
    "plt.xlabel(\"Weight\")\r\n",
    "plt.ylabel(\"Height\")\r\n",
    "plt.title(\"Height VS Weight\")\r\n",
    "\r\n",
    "x_train, x_test, y_train, y_test = train_test_split(x, y, train_size=0.8, random_state=1)\r\n",
    "print(\"Train data size: {}\".format(len(x_train)))\r\n",
    "print(\"Test data size: {}\".format(len(x_test)))"
   ],
   "outputs": [],
   "metadata": {}
  },
  {
   "cell_type": "markdown",
   "source": [
    "# Training"
   ],
   "metadata": {}
  },
  {
   "cell_type": "code",
   "execution_count": null,
   "source": [
    "# This time, we will try using polynomial feature to build our model\r\n",
    "from sklearn.preprocessing import PolynomialFeatures\r\n",
    "\r\n",
    "poly_feat = PolynomialFeatures(degree=2)\r\n",
    "x_train_poly = poly_feat.fit_transform(x_train)\r\n",
    "\r\n",
    "# We can have look how the x variable is extended to degree 2, in the form [1, x^1, x^2]\r\n",
    "x_train_poly[:5]\r\n"
   ],
   "outputs": [],
   "metadata": {}
  },
  {
   "cell_type": "code",
   "execution_count": null,
   "source": [
    "# Fitting the data, which means training the model to find optimal coeficients to define the polynomial equation\r\n",
    "\r\n",
    "from sklearn.linear_model import LinearRegression\r\n",
    "import random\r\n",
    "import numpy as np\r\n",
    "\r\n",
    "model = LinearRegression()\r\n",
    "model.fit(x_train_poly, y_train)\r\n",
    "\r\n",
    "print(\"Model training completed\")\r\n",
    "rand = np.array([ [random.randint(10, 80)] ])\r\n",
    "rand_poly = poly_feat.fit_transform(rand)\r\n",
    "print(\"Trying to predict a person with a weight of {} will have a height of {}\".format(rand[0][0], round(model.predict(rand_poly)[0][0], 2)))\r\n"
   ],
   "outputs": [],
   "metadata": {}
  },
  {
   "cell_type": "code",
   "execution_count": null,
   "source": [
    "# How does it look like?\r\n",
    "x_test = x_test.sort_values(\"Weight\")\r\n",
    "y_test = y_test.reindex(x_test.index)\r\n",
    "x_test_poly = poly_feat.fit_transform(x_test)\r\n",
    "\r\n",
    "plt.figure(figsize=(15, 6))\r\n",
    "plt.scatter(x, y, color=\"purple\")\r\n",
    "plt.plot(x_test, model.predict(x_test_poly), color=\"black\", linewidth=5)\r\n",
    "plt.xlabel(\"Weight\")\r\n",
    "plt.ylabel(\"Height\")\r\n",
    "plt.title(\"Height VS Weight\")"
   ],
   "outputs": [],
   "metadata": {}
  },
  {
   "cell_type": "code",
   "execution_count": null,
   "source": [
    "# If we want a quicker polynomial transformation, we can just use pipeline, which is a collection of processing that is run each time we call it. Then we don't have to build the polynomial feature manually each time we need it\r\n",
    "# To show the result is the same\r\n",
    "\r\n",
    "from sklearn.pipeline import make_pipeline\r\n",
    "\r\n",
    "pipeline = make_pipeline(PolynomialFeatures(degree=2), LinearRegression())\r\n",
    "pipeline.fit(x_train, y_train)\r\n",
    "\r\n",
    "plt.figure(figsize=(15, 6))\r\n",
    "plt.scatter(x, y, color=\"purple\")\r\n",
    "plt.plot(x_test, pipeline.predict(x_test), color=\"black\", linewidth=5)\r\n",
    "plt.xlabel(\"Weight\")\r\n",
    "plt.ylabel(\"Height\")\r\n",
    "plt.title(\"Height VS Weight\")"
   ],
   "outputs": [],
   "metadata": {}
  },
  {
   "cell_type": "markdown",
   "source": [
    "# Score"
   ],
   "metadata": {}
  },
  {
   "cell_type": "code",
   "execution_count": null,
   "source": [
    "accuracy_score = pipeline.score(x_test, y_test)\r\n",
    "print(\"Model Accuracy: {}\".format(round(accuracy_score,4)))"
   ],
   "outputs": [],
   "metadata": {}
  },
  {
   "cell_type": "markdown",
   "source": [
    "# Much better! The prediction is nearly correct for almost 98% of the time"
   ],
   "metadata": {}
  }
 ],
 "metadata": {
  "orig_nbformat": 4,
  "language_info": {
   "name": "python",
   "version": "3.9.1",
   "mimetype": "text/x-python",
   "codemirror_mode": {
    "name": "ipython",
    "version": 3
   },
   "pygments_lexer": "ipython3",
   "nbconvert_exporter": "python",
   "file_extension": ".py"
  },
  "kernelspec": {
   "name": "python3",
   "display_name": "Python 3.9.1 64-bit"
  },
  "interpreter": {
   "hash": "63fd5069d213b44bf678585dea6b12cceca9941eaf7f819626cde1f2670de90d"
  }
 },
 "nbformat": 4,
 "nbformat_minor": 2
}