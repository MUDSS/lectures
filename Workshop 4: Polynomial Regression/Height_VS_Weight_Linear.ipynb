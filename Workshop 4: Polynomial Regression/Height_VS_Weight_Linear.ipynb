{
 "cells": [
  {
   "cell_type": "markdown",
   "source": [
    "# Height vs Weight\r\n",
    "\r\n",
    "Welcome to Core Workshop 4: Polynomial Regression's live code session\r\n",
    "\r\n",
    "Today we are dealing with a csv toy dataset taken from Kaggle: [https://www.kaggle.com/sakshamjn/heightvsweight-for-linear-polynomial-regression](https://www.kaggle.com/sakshamjn/heightvsweight-for-linear-polynomial-regression), which records the **weight** and **height** of people (they are made up). The data is already cleaned.\r\n",
    "\r\n",
    "---"
   ],
   "metadata": {}
  },
  {
   "cell_type": "markdown",
   "source": [
    "## In this session we are using this data to build a `linear regression` model, trying to predict the **height** by a given **weight**"
   ],
   "metadata": {}
  },
  {
   "cell_type": "markdown",
   "source": [
    "# Explore"
   ],
   "metadata": {}
  },
  {
   "cell_type": "code",
   "execution_count": null,
   "source": [
    "# Let's firstly try to look how the dataset look like\r\n",
    "\r\n",
    "import pandas as pd\r\n",
    "\r\n",
    "df = pd.read_csv(\"./data/HeightVsWeight.csv\")\r\n",
    "df\r\n"
   ],
   "outputs": [],
   "metadata": {}
  },
  {
   "cell_type": "code",
   "execution_count": null,
   "source": [
    "# We can see that there are 71 points consisting of Weight and Height variable\r\n",
    "# Then let's try to visualize these data points in a plot\r\n",
    "import matplotlib.pyplot as plt\r\n",
    "\r\n",
    "# Extract the columns into x and y variable\r\n",
    "x = df.iloc[:, :1]\r\n",
    "y = df.iloc[:, 1:]\r\n",
    "\r\n",
    "plt.figure(figsize=(15, 6))\r\n",
    "plt.scatter(x, y, color=\"purple\")\r\n",
    "plt.xlabel(\"Weight\")\r\n",
    "plt.ylabel(\"Height\")\r\n",
    "plt.title(\"Height VS Weight\")"
   ],
   "outputs": [],
   "metadata": {}
  },
  {
   "cell_type": "markdown",
   "source": [
    "# Split"
   ],
   "metadata": {}
  },
  {
   "cell_type": "code",
   "execution_count": null,
   "source": [
    "# Before building our model, we sould split the data into training and test set\r\n",
    "from sklearn.model_selection import train_test_split\r\n",
    "\r\n",
    "x_train, x_test, y_train, y_test = train_test_split(x, y, train_size=0.8, random_state=404)\r\n",
    "print(\"Train data size: {}\".format(len(x_train)))\r\n",
    "print(\"Test data size: {}\".format(len(x_test)))\r\n",
    "x_train.head()"
   ],
   "outputs": [],
   "metadata": {}
  },
  {
   "cell_type": "markdown",
   "source": [
    "# Training"
   ],
   "metadata": {}
  },
  {
   "cell_type": "code",
   "execution_count": null,
   "source": [
    "# Now, hands on to build a linear regression model. One of the quickest way is to use the one provided sklearn library\r\n",
    "\r\n",
    "from sklearn.linear_model import LinearRegression\r\n",
    "import random\r\n",
    "import numpy as np\r\n",
    "\r\n",
    "model = LinearRegression()\r\n",
    "model.fit(x_train, y_train)\r\n",
    "\r\n",
    "print(\"Model training completed\")\r\n",
    "rand = np.array([ [random.randint(10, 80)] ])\r\n",
    "print(\"Trying to predict a person with a weight of {} will have a height of {}\".format(rand[0][0], round(model.predict(rand)[0][0], 2)))"
   ],
   "outputs": [],
   "metadata": {}
  },
  {
   "cell_type": "code",
   "execution_count": null,
   "source": [
    "# Let's see how is the line built from our training data\r\n",
    "\r\n",
    "plt.figure(figsize=(15, 6))\r\n",
    "plt.scatter(x, y, color=\"purple\")\r\n",
    "plt.plot(x_test, model.predict(x_test), color=\"black\")\r\n",
    "plt.xlabel(\"Weight\")\r\n",
    "plt.ylabel(\"Height\")\r\n",
    "plt.title(\"Height VS Weight\")\r\n"
   ],
   "outputs": [],
   "metadata": {}
  },
  {
   "cell_type": "markdown",
   "source": [
    "## As we can see, the line doesn't fit very well..."
   ],
   "metadata": {}
  },
  {
   "cell_type": "markdown",
   "source": [
    "# Score"
   ],
   "metadata": {}
  },
  {
   "cell_type": "code",
   "execution_count": null,
   "source": [
    "accuracy_score = model.score(x_test, y_test)\r\n",
    "print(\"Model Accuracy: {}\".format(round(accuracy_score, 4)))"
   ],
   "outputs": [],
   "metadata": {}
  },
  {
   "cell_type": "markdown",
   "source": [
    "# This is a pretty good accuracy score, but can we do it better?"
   ],
   "metadata": {}
  },
  {
   "cell_type": "markdown",
   "source": [],
   "metadata": {}
  }
 ],
 "metadata": {
  "orig_nbformat": 4,
  "language_info": {
   "name": "python",
   "version": "3.9.1",
   "mimetype": "text/x-python",
   "codemirror_mode": {
    "name": "ipython",
    "version": 3
   },
   "pygments_lexer": "ipython3",
   "nbconvert_exporter": "python",
   "file_extension": ".py"
  },
  "kernelspec": {
   "name": "python3",
   "display_name": "Python 3.9.1 64-bit"
  },
  "interpreter": {
   "hash": "63fd5069d213b44bf678585dea6b12cceca9941eaf7f819626cde1f2670de90d"
  }
 },
 "nbformat": 4,
 "nbformat_minor": 2
}