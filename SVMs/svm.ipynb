{
 "cells": [
  {
   "cell_type": "code",
   "execution_count": null,
   "source": [
    "from sklearn.datasets import load_iris\n",
    "import matplotlib.pyplot as plt\n",
    "import numpy as np\n",
    "import tensorflow as tf\n",
    "import pandas as pd\n",
    "from sklearn import svm"
   ],
   "outputs": [],
   "metadata": {}
  },
  {
   "cell_type": "code",
   "execution_count": null,
   "source": [
    "data = load_iris()\n",
    "data.keys()"
   ],
   "outputs": [],
   "metadata": {}
  },
  {
   "cell_type": "code",
   "execution_count": null,
   "source": [
    "data.get('target_names')"
   ],
   "outputs": [],
   "metadata": {}
  },
  {
   "cell_type": "code",
   "execution_count": null,
   "source": [
    "setosa = data.get('data')[:25][:, 1:3]\n",
    "# y = data.get('target')[:25]\n",
    "# x = setosa\n",
    "\n",
    "versicolor = data.get('data')[50:75][:, 1:3]\n",
    "y = data.get('target')[50:75]\n",
    "x = versicolor\n",
    "\n",
    "virginica = data.get('data')[100:125][:, 1:3]\n",
    "y = np.append(y, data.get('target')[100:125])\n",
    "x = np.append(x, virginica, axis=0)"
   ],
   "outputs": [],
   "metadata": {}
  },
  {
   "cell_type": "code",
   "execution_count": null,
   "source": [
    "def plot_iris():\n",
    "    plt.title('Plot three classes on features')\n",
    "    # plt.scatter(setosa[:, 0], setosa[:, 1], label='setosa')\n",
    "    plt.scatter(versicolor[:, 0], versicolor[:, 1], label='versicolor')\n",
    "    plt.scatter(virginica[:, 0], virginica[:, 1], label='virginica')\n",
    "    plt.xlabel(data.get('feature_names')[0])\n",
    "    plt.ylabel(data.get('feature_names')[1])\n",
    "    plt.legend()"
   ],
   "outputs": [],
   "metadata": {}
  },
  {
   "cell_type": "code",
   "execution_count": null,
   "source": [
    "model = svm.SVC(kernel='linear')"
   ],
   "outputs": [],
   "metadata": {}
  },
  {
   "cell_type": "code",
   "execution_count": null,
   "source": [
    "model.fit(x,y)"
   ],
   "outputs": [],
   "metadata": {}
  },
  {
   "cell_type": "code",
   "execution_count": null,
   "source": [
    "model.coef_"
   ],
   "outputs": [],
   "metadata": {}
  },
  {
   "cell_type": "code",
   "execution_count": null,
   "source": [
    "w = -model.coef_[0][0]/model.coef_[0][1]\n",
    "b = model.intercept_[0]\n",
    "line_x = np.arange(2,4,0.01)\n",
    "line_y = line_x * w - b/model.coef_[0][1]"
   ],
   "outputs": [],
   "metadata": {}
  },
  {
   "cell_type": "code",
   "execution_count": null,
   "source": [
    "plot_iris()\n",
    "plt.scatter(model.support_vectors_[:, 0], model.support_vectors_[:, 1], color='red')\n",
    "plt.plot(line_x, line_y, linewidth=1)\n",
    "plt.show()"
   ],
   "outputs": [],
   "metadata": {}
  },
  {
   "cell_type": "markdown",
   "source": [
    "## Build SVMs using Numpy"
   ],
   "metadata": {}
  },
  {
   "cell_type": "markdown",
   "source": [
    "### Split datasets"
   ],
   "metadata": {}
  },
  {
   "cell_type": "code",
   "execution_count": null,
   "source": [
    "ratio = 0.8\n",
    "\n",
    "assert(ratio*len(versicolor), len(virginica))\n",
    "total_len = len(versicolor)\n",
    "N = int(ratio*total_len)\n",
    "train_versicolor, test_versicolor = versicolor[:N], versicolor[N:]\n",
    "train_virginica, test_virginica = virginica[:N], virginica[N:]\n",
    "\n",
    "\n",
    "train_x = np.append(train_versicolor, train_virginica, axis=0)\n",
    "train_y = np.append([[-1 for i in range(N)]], [[1 for i in range(N)]],axis=None)\n",
    "test_x = np.append(test_versicolor, test_virginica, axis=0)\n",
    "test_y = np.append([[-1 for i in range(total_len-N)]], [[1 for i in range(total_len-N)]],axis=None)\n",
    "train_y,test_y\n"
   ],
   "outputs": [],
   "metadata": {}
  },
  {
   "cell_type": "code",
   "execution_count": null,
   "source": [
    "def hinge_loss(t, type:str = 'soft'):\n",
    "    if type == 'soft':\n",
    "        if t >= 0:\n",
    "            return 0\n",
    "        else:\n",
    "            return 1-t\n",
    "    elif type == 'hard':\n",
    "        if t >= 1:\n",
    "            return 0\n",
    "        else:\n",
    "            return np.inf\n",
    "    else:\n",
    "        raise Exception('Type of SVM not provided. Select `soft` or `hard`')\n",
    "\n",
    "class SVM():\n",
    "    def __init__(self, learning_rate: int = 0.00001) -> None:\n",
    "        self.w = np.array([])\n",
    "        self.learning_rate = learning_rate        \n",
    "\n",
    "    def train(self, X: list, Y: list, type: str = 'soft', epochs: int = 100) -> None:\n",
    "        '''\n",
    "            Train the SVM using Hinge loss and gradient descent.\n",
    "            Parameters:\n",
    "                X (list): training data\n",
    "                Y (list): training labels\n",
    "                epochs (int): number of times the whole optimization will be run\n",
    "        '''\n",
    "        assert len(X) == len(Y), 'Size of data does not match size of labels'\n",
    "        assert self.learning_rate > 0, 'Learning rate must be positive'\n",
    "\n",
    "        # Initialise the weights array to zero\n",
    "        self.w = np.random.random((1, 2))\n",
    "        # self.w = np.array([[0.5, 0.5] for i in range(len(X))])\n",
    "\n",
    "        for epoch in range(epochs):\n",
    "            Y_hat = np.sum(self.w * X, axis=1)\n",
    "            t = Y * Y_hat\n",
    "            # print(t)\n",
    "            for _ in t:\n",
    "                # Update weights\n",
    "                # print(hinge_loss(_))\n",
    "                print(self.w, hinge_loss(_), self.w/epochs)\n",
    "                self.w += self.learning_rate * (hinge_loss(_) - 2 * self.w/epochs)\n",
    "\n"
   ],
   "outputs": [],
   "metadata": {}
  },
  {
   "cell_type": "code",
   "execution_count": null,
   "source": [
    "# Test\n",
    "t = -1 * 15\n",
    "t = 1 * 2\n",
    "hinge_loss(t)"
   ],
   "outputs": [],
   "metadata": {}
  },
  {
   "cell_type": "code",
   "execution_count": null,
   "source": [
    "svm = SVM()\n",
    "svm.train(X=train_x, Y=train_y)\n",
    "svm.w"
   ],
   "outputs": [],
   "metadata": {}
  },
  {
   "cell_type": "code",
   "execution_count": null,
   "source": [
    "np.sqrt(svm.w[0, 0]**2 + svm.w[0, 1]**2)"
   ],
   "outputs": [],
   "metadata": {}
  },
  {
   "cell_type": "code",
   "execution_count": null,
   "source": [
    "w = -svm.w[0][1]/svm.w[0][0]\n",
    "b = train_x[0][0] * svm.w[0][0] - train_x[0][1] * svm.w[0][1]\n",
    "line_x = np.arange(2,4,0.01)\n",
    "line_y = line_x * w - b/svm.w[0][1]"
   ],
   "outputs": [],
   "metadata": {}
  },
  {
   "cell_type": "code",
   "execution_count": null,
   "source": [
    "print(svm.w)\n",
    "print(model.coef_)"
   ],
   "outputs": [],
   "metadata": {}
  },
  {
   "cell_type": "code",
   "execution_count": null,
   "source": [
    "plot_iris()\n",
    "plt.scatter(svm.w[:, 0], svm.w[:, 1], color='red')\n",
    "plt.plot(line_x, line_y, linewidth=1)\n",
    "plt.show()"
   ],
   "outputs": [],
   "metadata": {}
  },
  {
   "cell_type": "markdown",
   "source": [
    "### Non-linearly separable"
   ],
   "metadata": {}
  },
  {
   "cell_type": "code",
   "execution_count": null,
   "source": [
    "xor_data = np.array([\n",
    "    [1, 1],\n",
    "    [2, 2],\n",
    "    [1, 2],\n",
    "    [2, 1]\n",
    "])\n",
    "xor_labels = np.array([0, 0, 1, 1])"
   ],
   "outputs": [],
   "metadata": {}
  },
  {
   "cell_type": "code",
   "execution_count": null,
   "source": [
    "def plot_xor(xor_data):\n",
    "    plt.scatter(x=xor_data[:2, 0], y=xor_data[:2, 1])\n",
    "    plt.scatter(x=xor_data[2:, 0], y=xor_data[2:, 1])\n",
    "    plt.xlim(-1, 4)\n",
    "    plt.ylim(-1, 4)\n",
    "plot_xor(xor_data)"
   ],
   "outputs": [],
   "metadata": {}
  },
  {
   "cell_type": "code",
   "execution_count": null,
   "source": [
    "model = svm.SVC(kernel='rbf')\n",
    "model.fit(xor_data, y=xor_labels)"
   ],
   "outputs": [],
   "metadata": {}
  },
  {
   "cell_type": "code",
   "execution_count": null,
   "source": [],
   "outputs": [],
   "metadata": {}
  },
  {
   "cell_type": "code",
   "execution_count": null,
   "source": [],
   "outputs": [],
   "metadata": {}
  }
 ],
 "metadata": {
  "orig_nbformat": 4,
  "language_info": {
   "name": "python",
   "version": "3.8.5",
   "mimetype": "text/x-python",
   "codemirror_mode": {
    "name": "ipython",
    "version": 3
   },
   "pygments_lexer": "ipython3",
   "nbconvert_exporter": "python",
   "file_extension": ".py"
  },
  "kernelspec": {
   "name": "python3",
   "display_name": "Python 3.8.5 64-bit ('base': conda)"
  },
  "interpreter": {
   "hash": "64689e8cfaf3b1a6014f0d7f2f290c1849c0d60709909de228356e490e4bb3ce"
  }
 },
 "nbformat": 4,
 "nbformat_minor": 2
}